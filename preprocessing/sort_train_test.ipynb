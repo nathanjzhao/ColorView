{
 "cells": [
  {
   "cell_type": "code",
   "execution_count": 8,
   "metadata": {},
   "outputs": [],
   "source": [
    "import os\n",
    "import shutil\n",
    "import glob\n",
    "\n",
    "# Define the directories\n",
    "src_dir = '../data/CAMO_original/GT'\n",
    "train_tgt_dir = '../data/COD/Train/CAMO/GT_Object'\n",
    "test_tgt_dir = '../data/COD/Test/CAMO/GT_Object'\n",
    "train_img_dir = '../data/COD/Train/CAMO/Image'\n",
    "test_img_dir = '../data/COD/Test/CAMO/Image'\n",
    "\n",
    "# Create the target directories if they don't exist\n",
    "os.makedirs(train_tgt_dir, exist_ok=True)\n",
    "os.makedirs(test_tgt_dir, exist_ok=True)\n",
    "\n",
    "# Get a list of all image files in the train and test directories\n",
    "train_img_files = glob.glob(os.path.join(train_img_dir, '*'))\n",
    "test_img_files = glob.glob(os.path.join(test_img_dir, '*'))\n",
    "\n",
    "\n",
    "# Proce/home/nathanzh/MFFN_COD/MFFN_COD/data/CAMO_original/Images/Trainss each image file\n",
    "for img_file in train_img_files + test_img_files:\n",
    "    # Get the base name of the image file\n",
    "    base_name = os.path.basename(img_file)\n",
    "\n",
    "    # Change the extension to .png\n",
    "    base_name = os.path.splitext(base_name)[0] + '.png'\n",
    "\n",
    "    # Check if a corresponding ground truth image exists in the source directory\n",
    "    gt_file = os.path.join(src_dir, base_name)\n",
    "    if os.path.exists(gt_file):\n",
    "        # If it exists, move the ground truth image to the corresponding target directory\n",
    "        tgt_dir = train_tgt_dir if img_file in train_img_files else test_tgt_dir\n",
    "        shutil.move(gt_file, os.path.join(tgt_dir, base_name))"
   ]
  }
 ],
 "metadata": {
  "kernelspec": {
   "display_name": "MFFN",
   "language": "python",
   "name": "python3"
  },
  "language_info": {
   "codemirror_mode": {
    "name": "ipython",
    "version": 3
   },
   "file_extension": ".py",
   "mimetype": "text/x-python",
   "name": "python",
   "nbconvert_exporter": "python",
   "pygments_lexer": "ipython3",
   "version": "3.8.13"
  }
 },
 "nbformat": 4,
 "nbformat_minor": 2
}
