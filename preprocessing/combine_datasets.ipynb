{
 "cells": [
  {
   "cell_type": "code",
   "execution_count": 2,
   "metadata": {},
   "outputs": [],
   "source": [
    "import os\n",
    "import shutil\n",
    "import glob\n",
    "\n",
    "# Define the source and target directories\n",
    "camo_img_dir = '../data/COD/Test/CAMO/Image'\n",
    "cod10k_img_dir = '../data/COD/Test/COD10K/Image'\n",
    "camo_obj_dir = '../data/COD/Test/CAMO/GT_Object'\n",
    "cod10k_obj_dir = '../data/COD/Test/COD10K/GT_Object'\n",
    "camo_edge_dir = '../data/COD/Test/CAMO/GT_Edge'\n",
    "cod10k_edge_dir = '../data/COD/Test/COD10K/GT_Edge'\n",
    "\n",
    "tgt_img_dir = '../data/COD/Test/COD10K_CAMO/Image'\n",
    "tgt_obj_dir = '../data/COD/Test/COD10K_CAMO/GT_Object'\n",
    "tgt_edge_dir = '../data/COD/Test/COD10K_CAMO/GT_Edge'"
   ]
  },
  {
   "cell_type": "code",
   "execution_count": 13,
   "metadata": {},
   "outputs": [],
   "source": [
    "\n",
    "# Create the target directories if they don't exist\n",
    "os.makedirs(tgt_img_dir, exist_ok=True)\n",
    "os.makedirs(tgt_obj_dir, exist_ok=True)\n",
    "os.makedirs(tgt_edge_dir, exist_ok=True)\n",
    "\n",
    "# Get a list of all files in the source directories\n",
    "src_dirs = [camo_img_dir, cod10k_img_dir, camo_obj_dir, cod10k_obj_dir, camo_edge_dir, cod10k_edge_dir]\n",
    "tgt_dirs = [tgt_img_dir, tgt_img_dir, tgt_obj_dir, tgt_obj_dir, tgt_edge_dir, tgt_edge_dir]\n",
    "\n",
    "for src_dir, tgt_dir in zip(src_dirs, tgt_dirs):\n",
    "    files = glob.glob(os.path.join(src_dir, '*'))\n",
    "\n",
    "    # Process each file\n",
    "    for file in files:\n",
    "        # Copy the file to the target directory\n",
    "        shutil.copy(file, tgt_dir)"
   ]
  },
  {
   "cell_type": "code",
   "execution_count": 6,
   "metadata": {},
   "outputs": [
    {
     "name": "stdout",
     "output_type": "stream",
     "text": [
      "250 4000 4250\n",
      "The sizes of camo_edge_dir and cod10k_edge_dir sum to tgt_edge_dir.\n"
     ]
    }
   ],
   "source": [
    "camo_edge_len = len(glob.glob(os.path.join(camo_edge_dir, '*')))\n",
    "cod10k_edge_len = len(glob.glob(os.path.join(cod10k_edge_dir, '*')))\n",
    "tgt_edge_len = len(glob.glob(os.path.join(tgt_edge_dir, '*')))\n",
    "\n",
    "print(camo_edge_len, cod10k_edge_len, tgt_edge_len)\n",
    "if camo_edge_len + cod10k_edge_len == tgt_edge_len:\n",
    "    print(\"The sizes of camo_edge_dir and cod10k_edge_dir sum to tgt_edge_dir.\")\n",
    "else:\n",
    "    print(\"The sizes of camo_edge_dir and cod10k_edge_dir do not sum to tgt_edge_dir.\")\n"
   ]
  }
 ],
 "metadata": {
  "kernelspec": {
   "display_name": "MFFN",
   "language": "python",
   "name": "python3"
  },
  "language_info": {
   "codemirror_mode": {
    "name": "ipython",
    "version": 3
   },
   "file_extension": ".py",
   "mimetype": "text/x-python",
   "name": "python",
   "nbconvert_exporter": "python",
   "pygments_lexer": "ipython3",
   "version": "3.8.13"
  }
 },
 "nbformat": 4,
 "nbformat_minor": 2
}
