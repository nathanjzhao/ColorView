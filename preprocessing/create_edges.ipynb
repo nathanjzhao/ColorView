{
 "cells": [
  {
   "cell_type": "code",
   "execution_count": 4,
   "metadata": {},
   "outputs": [],
   "source": [
    "import cv2\n",
    "import os\n",
    "import glob\n",
    "\n",
    "# Define the source and target directories\n",
    "src_dir = '../data/Military/Test/ACD1K_CAMO/GT_Object'\n",
    "tgt_dir = '../data/Military/Test/ACD1K_CAMO/GT_Edge'\n",
    "\n",
    "# Create the target directory if it doesn't exist\n",
    "os.makedirs(tgt_dir, exist_ok=True)\n",
    "\n",
    "# Get a list of all PNG files in the source directory\n",
    "png_files = glob.glob(os.path.join(src_dir, '*.png'))\n",
    "\n",
    "# Process each PNG file\n",
    "for png_file in png_files:\n",
    "    # Read the image\n",
    "    img = cv2.imread(png_file, cv2.IMREAD_GRAYSCALE)\n",
    "\n",
    "    # Detect edges\n",
    "    edges = cv2.Canny(img, 100, 200)\n",
    "\n",
    "    # Save the edge image to the target directory\n",
    "    edge_file = os.path.join(tgt_dir, os.path.basename(png_file))\n",
    "    cv2.imwrite(edge_file, edges)"
   ]
  },
  {
   "cell_type": "code",
   "execution_count": 5,
   "metadata": {},
   "outputs": [
    {
     "name": "stdout",
     "output_type": "stream",
     "text": [
      "330\n"
     ]
    }
   ],
   "source": [
    "print(len(os.listdir(tgt_dir)))"
   ]
  }
 ],
 "metadata": {
  "kernelspec": {
   "display_name": "MFFN",
   "language": "python",
   "name": "python3"
  },
  "language_info": {
   "codemirror_mode": {
    "name": "ipython",
    "version": 3
   },
   "file_extension": ".py",
   "mimetype": "text/x-python",
   "name": "python",
   "nbconvert_exporter": "python",
   "pygments_lexer": "ipython3",
   "version": "3.8.13"
  }
 },
 "nbformat": 4,
 "nbformat_minor": 2
}
